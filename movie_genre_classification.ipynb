{
 "cells": [
  {
   "cell_type": "markdown",
   "source": [
    "# Final Project for Machine Learning and Deep Learning (650.025, 22W)\n",
    "## Movie-Genre-Multi-Label-Text-Classification\n",
    "\n",
    "[Data Source](https://www.kaggle.com/datasets/cryptexcode/mpst-movie-plot-synopses-with-tags)\n",
    "\n",
    "<br />\n",
    "<hr />\n",
    "\n",
    "     Mustafa Tahir Bingöl\n",
    "     Mustafa Tayyip Bayram\n",
    "     January 10, 2023\n",
    "<hr />\n",
    "<br />"
   ],
   "metadata": {
    "collapsed": false
   }
  },
  {
   "cell_type": "markdown",
   "source": [
    "<h1>Table of Contents<span class=\"tocSkip\"></span></h1>\n",
    "    <ul> 1. Package Importing </ul>\n",
    "    <ul> 2. Dataset Importing </ul>\n",
    "    <ul> 3. Data Preprocessing </ul>\n",
    "    <ul> 4. Modelling </ul>\n",
    "    <ul> 4.1 Vectorization (TFIDF, Topic Modelling) </ul>\n",
    "    <ul> 4.2 Logistic Regression </ul>\n",
    "    <ul> 4.3 Naive Bayes </ul>\n",
    "    <ul> 4.5 Neural Network </ul>\n",
    "\n",
    "\n",
    "\n",
    "\n",
    "\n"
   ],
   "metadata": {
    "collapsed": false
   }
  },
  {
   "cell_type": "markdown",
   "source": [
    "# Introduction\n",
    "\n",
    "## Summary\n",
    "A typical Binary Classification challenge involves classifying a text content into one of two pre-defined classifications (e.g., spam or non spam). There are various instances in which the document must be classified into more than two classifications. This is a multi-class classification issue in which a data instance is associated with only one of the numerous single class labels.\n",
    "\n",
    "\n",
    "## Explanation of a features\n",
    "\n",
    "## Problem Statement\n",
    "The purpose of this project is to forecast all of the potential movie genres based on the narrative.\n"
   ],
   "metadata": {
    "collapsed": false
   }
  },
  {
   "cell_type": "markdown",
   "source": [
    "# 1. Importings and Data Loading"
   ],
   "metadata": {
    "collapsed": false
   }
  },
  {
   "cell_type": "code",
   "execution_count": 2,
   "outputs": [
    {
     "name": "stderr",
     "output_type": "stream",
     "text": [
      "[nltk_data] Downloading package stopwords to\n",
      "[nltk_data]     C:\\Users\\tyyp-\\AppData\\Roaming\\nltk_data...\n",
      "[nltk_data]   Package stopwords is already up-to-date!\n",
      "[nltk_data] Downloading package wordnet to\n",
      "[nltk_data]     C:\\Users\\tyyp-\\AppData\\Roaming\\nltk_data...\n",
      "[nltk_data]   Package wordnet is already up-to-date!\n",
      "\u001B[34m\u001B[1mwandb\u001B[0m: Currently logged in as: \u001B[33mmutabay\u001B[0m. Use \u001B[1m`wandb login --relogin`\u001B[0m to force relogin\n"
     ]
    },
    {
     "data": {
      "text/plain": "<IPython.core.display.HTML object>",
      "text/html": "wandb version 0.13.11 is available!  To upgrade, please run:\n $ pip install wandb --upgrade"
     },
     "metadata": {},
     "output_type": "display_data"
    },
    {
     "data": {
      "text/plain": "<IPython.core.display.HTML object>",
      "text/html": "Tracking run with wandb version 0.13.4"
     },
     "metadata": {},
     "output_type": "display_data"
    },
    {
     "data": {
      "text/plain": "<IPython.core.display.HTML object>",
      "text/html": "Run data is saved locally in <code>C:\\Users\\tyyp-\\Desktop\\Repository\\Machine Learning\\AAU\\Machine Learning and Deep Learning Project\\wandb\\run-20230309_122239-2fcypztw</code>"
     },
     "metadata": {},
     "output_type": "display_data"
    },
    {
     "data": {
      "text/plain": "<IPython.core.display.HTML object>",
      "text/html": "Syncing run <strong><a href=\"https://wandb.ai/mutabay/movie_genre_classificaiton/runs/2fcypztw\" target=\"_blank\">peach-cloud-3</a></strong> to <a href=\"https://wandb.ai/mutabay/movie_genre_classificaiton\" target=\"_blank\">Weights & Biases</a> (<a href=\"https://wandb.me/run\" target=\"_blank\">docs</a>)<br/>"
     },
     "metadata": {},
     "output_type": "display_data"
    },
    {
     "data": {
      "text/html": "<button onClick=\"this.nextSibling.style.display='block';this.style.display='none';\">Display W&B run</button><iframe src=\"https://wandb.ai/mutabay/movie_genre_classificaiton/runs/2fcypztw?jupyter=true\" style=\"border:none;width:100%;height:420px;display:none;\"></iframe>",
      "text/plain": "<wandb.sdk.wandb_run.Run at 0x2073269ea30>"
     },
     "execution_count": 2,
     "metadata": {},
     "output_type": "execute_result"
    }
   ],
   "source": [
    "import pandas as pd\n",
    "import warnings\n",
    "warnings.filterwarnings(\"ignore\")\n",
    "import pandas as pd\n",
    "import csv\n",
    "import missingno as msno\n",
    "import matplotlib.pyplot as plt\n",
    "import matplotlib as mpl\n",
    "\n",
    "import seaborn as sns\n",
    "import numpy as np\n",
    "from wordcloud import WordCloud\n",
    "import re\n",
    "import os\n",
    "from sqlalchemy import create_engine # database connection\n",
    "import datetime as dt\n",
    "from nltk.corpus import stopwords\n",
    "from nltk.tokenize import word_tokenize\n",
    "from nltk.stem.snowball import SnowballStemmer\n",
    "from sklearn.feature_extraction.text import CountVectorizer\n",
    "from sklearn.feature_extraction.text import TfidfVectorizer\n",
    "from sklearn.multiclass import OneVsRestClassifier\n",
    "from sklearn.linear_model import SGDClassifier\n",
    "from sklearn import metrics\n",
    "from sklearn.metrics import f1_score,precision_score,recall_score\n",
    "from sklearn import svm\n",
    "from sklearn.linear_model import LogisticRegression\n",
    "from sklearn.naive_bayes import GaussianNB\n",
    "from datetime import datetime\n",
    "\n",
    "from tqdm import tqdm\n",
    "from bs4 import BeautifulSoup\n",
    "\n",
    "import unicodedata\n",
    "import nltk\n",
    "from wordcloud import WordCloud\n",
    "from nltk.stem.snowball import SnowballStemmer\n",
    "from nltk.stem import WordNetLemmatizer\n",
    "from nltk.corpus import stopwords\n",
    "import unicodedata\n",
    "nltk.download('stopwords')\n",
    "nltk.download('wordnet')\n",
    "\n",
    "from sklearn.naive_bayes import BernoulliNB\n",
    "import pickle\n",
    "\n",
    "from keras.models import Sequential\n",
    "from keras.layers import Dense\n",
    "from keras.layers import LSTM\n",
    "from keras.layers import Bidirectional\n",
    "from keras.layers.embeddings import Embedding\n",
    "from keras.preprocessing import sequence\n",
    "\n",
    "import tensorflow as tf\n",
    "from tensorflow.keras.preprocessing.text import Tokenizer\n",
    "from keras.preprocessing.sequence import pad_sequences\n",
    "from tensorflow import keras\n",
    "from tensorflow.keras import layers\n",
    "\n",
    "import wandb\n",
    "wandb.init(project=\"movie_genre_classificaiton\")"
   ],
   "metadata": {
    "collapsed": false,
    "pycharm": {
     "name": "#%%\n"
    }
   }
  },
  {
   "cell_type": "code",
   "execution_count": 3,
   "outputs": [],
   "source": [
    "import tensorflow as tf\n",
    "from tensorflow.keras.preprocessing.text import Tokenizer\n",
    "from keras.preprocessing.sequence import pad_sequences\n",
    "from tensorflow import keras\n",
    "from tensorflow.keras import layers\n"
   ],
   "metadata": {
    "collapsed": false,
    "pycharm": {
     "name": "#%%\n"
    }
   }
  },
  {
   "cell_type": "code",
   "execution_count": 5,
   "outputs": [
    {
     "name": "stdout",
     "output_type": "stream",
     "text": [
      "pp data\n"
     ]
    }
   ],
   "source": [
    "# Read the data\n",
    "preprocessed_data = False\n",
    "if os.path.exists('Data/preprocessed/mpst_full_data_pp.csv'):\n",
    "    df = pd.read_csv('Data/preprocessed/mpst_full_data_pp.csv')\n",
    "    preprocessed_data = True\n",
    "    print(\"pp data\")\n",
    "else:\n",
    "    df = pd.read_csv('Data/mpst_full_data.csv')"
   ],
   "metadata": {
    "collapsed": false,
    "pycharm": {
     "name": "#%%\n"
    }
   }
  },
  {
   "cell_type": "markdown",
   "source": [
    "# 2. Data Set Overview"
   ],
   "metadata": {
    "collapsed": false
   }
  },
  {
   "cell_type": "code",
   "execution_count": 4,
   "outputs": [
    {
     "name": "stdout",
     "output_type": "stream",
     "text": [
      "Shape of data:  (14828, 6)\n"
     ]
    },
    {
     "data": {
      "text/plain": "     imdb_id                                          title  \\\n0  tt0057603                        I tre volti della paura   \n1  tt1733125  Dungeons & Dragons: The Book of Vile Darkness   \n2  tt0033045                     The Shop Around the Corner   \n3  tt0113862                             Mr. Holland's Opus   \n4  tt0086250                                       Scarface   \n\n                                       plot_synopsis  \\\n0  Note: this synopsis is for the orginal Italian...   \n1  Two thousand years ago, Nhagruul the Foul, a s...   \n2  Matuschek's, a gift store in Budapest, is the ...   \n3  Glenn Holland, not a morning person by anyone'...   \n4  In May 1980, a Cuban man named Tony Montana (A...   \n\n                                                tags  split synopsis_source  \n0          cult, horror, gothic, murder, atmospheric  train            imdb  \n1                                           violence  train            imdb  \n2                                           romantic   test            imdb  \n3             inspiring, romantic, stupid, feel-good  train            imdb  \n4  cruelty, murder, dramatic, cult, violence, atm...    val            imdb  ",
      "text/html": "<div>\n<style scoped>\n    .dataframe tbody tr th:only-of-type {\n        vertical-align: middle;\n    }\n\n    .dataframe tbody tr th {\n        vertical-align: top;\n    }\n\n    .dataframe thead th {\n        text-align: right;\n    }\n</style>\n<table border=\"1\" class=\"dataframe\">\n  <thead>\n    <tr style=\"text-align: right;\">\n      <th></th>\n      <th>imdb_id</th>\n      <th>title</th>\n      <th>plot_synopsis</th>\n      <th>tags</th>\n      <th>split</th>\n      <th>synopsis_source</th>\n    </tr>\n  </thead>\n  <tbody>\n    <tr>\n      <th>0</th>\n      <td>tt0057603</td>\n      <td>I tre volti della paura</td>\n      <td>Note: this synopsis is for the orginal Italian...</td>\n      <td>cult, horror, gothic, murder, atmospheric</td>\n      <td>train</td>\n      <td>imdb</td>\n    </tr>\n    <tr>\n      <th>1</th>\n      <td>tt1733125</td>\n      <td>Dungeons &amp; Dragons: The Book of Vile Darkness</td>\n      <td>Two thousand years ago, Nhagruul the Foul, a s...</td>\n      <td>violence</td>\n      <td>train</td>\n      <td>imdb</td>\n    </tr>\n    <tr>\n      <th>2</th>\n      <td>tt0033045</td>\n      <td>The Shop Around the Corner</td>\n      <td>Matuschek's, a gift store in Budapest, is the ...</td>\n      <td>romantic</td>\n      <td>test</td>\n      <td>imdb</td>\n    </tr>\n    <tr>\n      <th>3</th>\n      <td>tt0113862</td>\n      <td>Mr. Holland's Opus</td>\n      <td>Glenn Holland, not a morning person by anyone'...</td>\n      <td>inspiring, romantic, stupid, feel-good</td>\n      <td>train</td>\n      <td>imdb</td>\n    </tr>\n    <tr>\n      <th>4</th>\n      <td>tt0086250</td>\n      <td>Scarface</td>\n      <td>In May 1980, a Cuban man named Tony Montana (A...</td>\n      <td>cruelty, murder, dramatic, cult, violence, atm...</td>\n      <td>val</td>\n      <td>imdb</td>\n    </tr>\n  </tbody>\n</table>\n</div>"
     },
     "execution_count": 4,
     "metadata": {},
     "output_type": "execute_result"
    }
   ],
   "source": [
    "print('Shape of data: ', df.shape)\n",
    "df.head(5)"
   ],
   "metadata": {
    "collapsed": false,
    "pycharm": {
     "name": "#%%\n"
    }
   }
  },
  {
   "cell_type": "markdown",
   "source": [
    "Genre of movies are multi-label.\n",
    "\n",
    "Each observation consists of\n",
    "\n",
    "Id which identifies the row of plot.\n",
    "A title which contains the title.\n",
    "plot_synopsis containing the plot of the movie\n",
    "70 Movie Genres tags TODO?\n",
    "Data splitting column\n",
    "Source of data"
   ],
   "metadata": {
    "collapsed": false
   }
  },
  {
   "cell_type": "code",
   "execution_count": 5,
   "outputs": [
    {
     "name": "stdout",
     "output_type": "stream",
     "text": [
      "<class 'pandas.core.frame.DataFrame'>\n",
      "RangeIndex: 14828 entries, 0 to 14827\n",
      "Data columns (total 6 columns):\n",
      " #   Column           Non-Null Count  Dtype \n",
      "---  ------           --------------  ----- \n",
      " 0   imdb_id          14828 non-null  object\n",
      " 1   title            14828 non-null  object\n",
      " 2   plot_synopsis    14828 non-null  object\n",
      " 3   tags             14828 non-null  object\n",
      " 4   split            14828 non-null  object\n",
      " 5   synopsis_source  14828 non-null  object\n",
      "dtypes: object(6)\n",
      "memory usage: 695.2+ KB\n"
     ]
    },
    {
     "data": {
      "text/plain": "(None, <AxesSubplot:>)"
     },
     "execution_count": 5,
     "metadata": {},
     "output_type": "execute_result"
    },
    {
     "data": {
      "text/plain": "<Figure size 1800x720 with 2 Axes>",
      "image/png": "[encoded data removed]"
     },
     "metadata": {
      "needs_background": "light"
     },
     "output_type": "display_data"
    }
   ],
   "source": [
    "df.info(), msno.matrix(df)"
   ],
   "metadata": {
    "collapsed": false,
    "pycharm": {
     "name": "#%%\n"
    }
   }
  },
  {
   "cell_type": "markdown",
   "source": [
    "There are no missing value"
   ],
   "metadata": {
    "collapsed": false
   }
  },
  {
   "cell_type": "markdown",
   "source": [
    "Let's check duplicates"
   ],
   "metadata": {
    "collapsed": false
   }
  },
  {
   "cell_type": "code",
   "execution_count": 6,
   "outputs": [
    {
     "data": {
      "text/plain": "(14752, 6)"
     },
     "execution_count": 6,
     "metadata": {},
     "output_type": "execute_result"
    }
   ],
   "source": [
    "sort=df.sort_values('imdb_id')\n",
    "df=sort.drop_duplicates(subset={'title','tags','plot_synopsis'})\n",
    "df.shape"
   ],
   "metadata": {
    "collapsed": false,
    "pycharm": {
     "name": "#%%\n"
    }
   }
  },
  {
   "cell_type": "markdown",
   "source": [
    "As it seems there was 76 duplicate value."
   ],
   "metadata": {
    "collapsed": false
   }
  },
  {
   "cell_type": "code",
   "execution_count": 7,
   "outputs": [
    {
     "data": {
      "text/plain": "         imdb_id                                     title  \\\n10426  tt6583664                                 Scapegoat   \n10878  tt0076911          What a Nightmare, Charlie Brown!   \n1776   tt0499448  The Chronicles of Narnia: Prince Caspian   \n335    tt0077235                             Big Wednesday   \n5293   tt0498399                          We Own the Night   \n\n                                           plot_synopsis  \\\n10426  There are significant differences between this...   \n10878  One winter day, Charlie Brown is trying to pre...   \n1776   On a cloudless night in Narnia, under an eclip...   \n335    Malibu, California, 1962. Matt the Enforcer (J...   \n5293   New York, November 1988: A new breed of narcot...   \n\n                                                    tags split synopsis_source  \n10426                               revenge, suspenseful  test       wikipedia  \n10878                                        psychedelic  test       wikipedia  \n1776   good versus evil, violence, fantasy, boring, r...  test            imdb  \n335                                  cult, philosophical  test            imdb  \n5293   revenge, suspenseful, murder, violence, flashback  test            imdb  ",
      "text/html": "<div>\n<style scoped>\n    .dataframe tbody tr th:only-of-type {\n        vertical-align: middle;\n    }\n\n    .dataframe tbody tr th {\n        vertical-align: top;\n    }\n\n    .dataframe thead th {\n        text-align: right;\n    }\n</style>\n<table border=\"1\" class=\"dataframe\">\n  <thead>\n    <tr style=\"text-align: right;\">\n      <th></th>\n      <th>imdb_id</th>\n      <th>title</th>\n      <th>plot_synopsis</th>\n      <th>tags</th>\n      <th>split</th>\n      <th>synopsis_source</th>\n    </tr>\n  </thead>\n  <tbody>\n    <tr>\n      <th>10426</th>\n      <td>tt6583664</td>\n      <td>Scapegoat</td>\n      <td>There are significant differences between this...</td>\n      <td>revenge, suspenseful</td>\n      <td>test</td>\n      <td>wikipedia</td>\n    </tr>\n    <tr>\n      <th>10878</th>\n      <td>tt0076911</td>\n      <td>What a Nightmare, Charlie Brown!</td>\n      <td>One winter day, Charlie Brown is trying to pre...</td>\n      <td>psychedelic</td>\n      <td>test</td>\n      <td>wikipedia</td>\n    </tr>\n    <tr>\n      <th>1776</th>\n      <td>tt0499448</td>\n      <td>The Chronicles of Narnia: Prince Caspian</td>\n      <td>On a cloudless night in Narnia, under an eclip...</td>\n      <td>good versus evil, violence, fantasy, boring, r...</td>\n      <td>test</td>\n      <td>imdb</td>\n    </tr>\n    <tr>\n      <th>335</th>\n      <td>tt0077235</td>\n      <td>Big Wednesday</td>\n      <td>Malibu, California, 1962. Matt the Enforcer (J...</td>\n      <td>cult, philosophical</td>\n      <td>test</td>\n      <td>imdb</td>\n    </tr>\n    <tr>\n      <th>5293</th>\n      <td>tt0498399</td>\n      <td>We Own the Night</td>\n      <td>New York, November 1988: A new breed of narcot...</td>\n      <td>revenge, suspenseful, murder, violence, flashback</td>\n      <td>test</td>\n      <td>imdb</td>\n    </tr>\n  </tbody>\n</table>\n</div>"
     },
     "execution_count": 7,
     "metadata": {},
     "output_type": "execute_result"
    }
   ],
   "source": [
    "df=df.sort_values('split')\n",
    "df.head()"
   ],
   "metadata": {
    "collapsed": false,
    "pycharm": {
     "name": "#%%\n"
    }
   }
  },
  {
   "cell_type": "code",
   "execution_count": 8,
   "outputs": [
    {
     "data": {
      "text/plain": "train    9436\ntest     2957\nval      2359\nName: split, dtype: int64"
     },
     "execution_count": 8,
     "metadata": {},
     "output_type": "execute_result"
    }
   ],
   "source": [
    "df['split'].value_counts()"
   ],
   "metadata": {
    "collapsed": false,
    "pycharm": {
     "name": "#%%\n"
    }
   }
  },
  {
   "cell_type": "markdown",
   "source": [
    "# 3. Data Preprocessing"
   ],
   "metadata": {
    "collapsed": false
   }
  },
  {
   "cell_type": "code",
   "execution_count": 9,
   "outputs": [],
   "source": [
    "# Remove html tags\n",
    "def remove_tags(sentence):\n",
    "    html_tag = '<.*?>'\n",
    "    pp_sentence = re.sub(html_tag, ' ',  sentence)\n",
    "    return pp_sentence\n",
    "\n",
    "# Remove accented characters\n",
    "def remove_accents(sentence):\n",
    "    pp_sentence = unicodedata.normalize('NFD', sentence)\n",
    "    pp_sentence = pp_sentence.encode('ascii', 'ignore')\n",
    "    pp_sentence = pp_sentence.decode(\"utf-8\")\n",
    "    return pp_sentence\n",
    "\n",
    "# Remove punctuations\n",
    "def remove_punctuation(sentence):\n",
    "    pp_sentence = re.sub(r'[?|!|\\'|\"|#]', '', sentence)\n",
    "    pp_sentence = re.sub(r'[,|.|;|:|(|)|{|}|\\|/|<|>]|-', ' ', pp_sentence)\n",
    "    pp_sentence = pp_sentence.replace(\"\\n\",\" \")\n",
    "    return pp_sentence\n",
    "\n",
    "# Remove characters not in the alphabet\n",
    "def remove_except_alpha(sentence):\n",
    "    alpha_sentence = re.sub('[^a-z A-Z]+', ' ', sentence)\n",
    "    return alpha_sentence\n",
    "\n",
    "# Convert it lowercase\n",
    "def lower_case(sentence):\n",
    "    lower_case_sentence = sentence.lower()\n",
    "    return lower_case_sentence"
   ],
   "metadata": {
    "collapsed": false,
    "pycharm": {
     "name": "#%%\n"
    }
   }
  },
  {
   "cell_type": "code",
   "execution_count": 10,
   "outputs": [],
   "source": [
    "# Stemming\n",
    "def stemming(sentence):\n",
    "    stemmer = SnowballStemmer(\"english\")\n",
    "    stemmed_words = [stemmer.stem(word) for word in sentence.split()]\n",
    "    stemmed_sentence=' '.join(stemmed_words)\n",
    "    return stemmed_sentence"
   ],
   "metadata": {
    "collapsed": false,
    "pycharm": {
     "name": "#%%\n"
    }
   }
  },
  {
   "cell_type": "code",
   "execution_count": 12,
   "outputs": [],
   "source": [
    "# Remove stop words\n",
    "def remove_stop_words(sentence):\n",
    "    stop_words = set(stopwords.words('english'))\n",
    "    stop_words.update(['br', 'the', 'i', 'me', 'my', 'myself', 'we', 'our', 'ours', 'ourselves', 'you', \"you're\", \"you've\",\n",
    "                       \"you'll\", \"you'd\", 'your', 'yours', 'yourself', 'yourselves', 'he', 'him', 'his', 'himself',\n",
    "                       'she', \"she's\", 'her', 'hers', 'herself', 'it', \"it's\", 'its', 'itself', 'they', 'them', 'their',\n",
    "                       'theirs', 'themselves', 'what', 'which', 'who', 'whom', 'this', 'that', \"that'll\", 'these', 'those',\n",
    "                       'am', 'is', 'are', 'was', 'were', 'be', 'been', 'being', 'have', 'has', 'had', 'having', 'do','does',\n",
    "                       'did', 'doing', 'a', 'an', 'the', 'and', 'but', 'if', 'or', 'because', 'as', 'until', 'while', 'of',\n",
    "                       'at', 'by', 'for', 'with', 'about', 'against', 'between', 'into', 'through', 'during', 'before', 'after', 'above', 'below', 'to', 'from', 'up', 'down', 'in', 'out', 'on', 'off', 'over', 'under', 'again', 'further', 'then', 'once', 'here', 'there', 'when', 'where', 'why', 'how', 'all', 'any', 'both'])\n",
    "\n",
    "    no_stop_words=[word for word in sentence.split() if word not in stop_words]\n",
    "    no_step_sentence = ' '.join(no_stop_words)\n",
    "    return no_step_sentence"
   ],
   "metadata": {
    "collapsed": false,
    "pycharm": {
     "name": "#%%\n"
    }
   }
  },
  {
   "cell_type": "code",
   "execution_count": 22,
   "outputs": [],
   "source": [
    "def text_preprocess(sentence):\n",
    "    pre_processed_sentence = remove_tags(sentence)\n",
    "    pre_processed_sentence = remove_accents(pre_processed_sentence)\n",
    "    pre_processed_sentence = remove_punctuation(pre_processed_sentence)\n",
    "    pre_processed_sentence = remove_except_alpha(pre_processed_sentence)\n",
    "    pre_processed_sentence = lower_case(pre_processed_sentence)\n",
    "    pre_processed_sentence = stemming(pre_processed_sentence) # Use Lemmatize instead of stemming\n",
    "    pre_processed_sentence = remove_stop_words(pre_processed_sentence)\n",
    "\n",
    "    return pre_processed_sentence"
   ],
   "metadata": {
    "collapsed": false,
    "pycharm": {
     "name": "#%%\n"
    }
   }
  },
  {
   "cell_type": "code",
   "execution_count": 23,
   "outputs": [
    {
     "name": "stderr",
     "output_type": "stream",
     "text": [
      "[nltk_data] Downloading package omw-1.4 to\n",
      "[nltk_data]     C:\\Users\\tyyp-\\AppData\\Roaming\\nltk_data...\n",
      "[nltk_data]   Package omw-1.4 is already up-to-date!\n"
     ]
    },
    {
     "data": {
      "text/plain": "True"
     },
     "execution_count": 23,
     "metadata": {},
     "output_type": "execute_result"
    }
   ],
   "source": [
    "nltk.download('omw-1.4')"
   ],
   "metadata": {
    "collapsed": false,
    "pycharm": {
     "name": "#%%\n"
    }
   }
  },
  {
   "cell_type": "code",
   "execution_count": 25,
   "outputs": [],
   "source": [
    "if not preprocessed_data:\n",
    "    #df['plot_synopsis'] = df['plot_synopsis'].apply(text_preprocess)\n",
    "    plot_pp = []\n",
    "    tag_pp = []\n",
    "    title_pp = []\n",
    "\n",
    "    # Preprocess plot\n",
    "    for plot_sentence in df['plot_synopsis']:\n",
    "        plot_pp.append(text_preprocess(plot_sentence))\n",
    "\n",
    "    # Preprocess title\n",
    "    for title_sentence in df['title']:\n",
    "        title_pp.append(text_preprocess(title_sentence))\n",
    "\n",
    "    # Preprocess tags\n",
    "    for s in tqdm(df['tags'].values):\n",
    "        s=re.sub(r' ','',s)\n",
    "        s=re.sub(r',',' ',s)\n",
    "        s=' '.join(e.lower() for e in s.split() )\n",
    "        tag_pp.append(s.strip())\n",
    "\n",
    "\n",
    "    df['plot_pp'] = plot_pp\n",
    "    df['title_pp'] = title_pp\n",
    "    df['tag_pp'] = tag_pp"
   ],
   "metadata": {
    "collapsed": false,
    "pycharm": {
     "name": "#%%\n"
    }
   }
  },
  {
   "cell_type": "code",
   "execution_count": 35,
   "outputs": [
    {
     "data": {
      "text/plain": "         imdb_id                                     title  \\\n10426  tt6583664                                 Scapegoat   \n10878  tt0076911          What a Nightmare, Charlie Brown!   \n1776   tt0499448  The Chronicles of Narnia: Prince Caspian   \n335    tt0077235                             Big Wednesday   \n5293   tt0498399                          We Own the Night   \n\n                                           plot_synopsis  \\\n10426  signif differ adapt origin novel wherea action...   \n10878  one winter day char brown tri pretend musher s...   \n1776   cloudless night narnia eclip moon insid dark f...   \n335    malibu california matt enforc jan michael vinc...   \n5293   new york novemb new breed narcot sweep great c...   \n\n                                                    tags split  \\\n10426                               revenge, suspenseful  test   \n10878                                        psychedelic  test   \n1776   good versus evil, violence, fantasy, boring, r...  test   \n335                                  cult, philosophical  test   \n5293   revenge, suspenseful, murder, violence, flashback  test   \n\n      synopsis_source                                            plot_pp  \\\n10426       wikipedia  signif differ adapt origin novel wherea action...   \n10878       wikipedia  one winter day char brown tri pretend musher s...   \n1776             imdb  cloudless night narnia eclip moon insid dark f...   \n335              imdb  malibu california matt enforc jan michael vinc...   \n5293             imdb  new york novemb new breed narcot sweep great c...   \n\n                                                tag_pp  \\\n10426                              revenge suspenseful   \n10878                                      psychedelic   \n1776   goodversusevil violence fantasy boring romantic   \n335                                 cult philosophical   \n5293     revenge suspenseful murder violence flashback   \n\n                            title_pp  \n10426                      scapegoat  \n10878          nightmar charli brown  \n1776   chronicl narnia princ caspian  \n335                    big wednesday  \n5293                           night  ",
      "text/html": "<div>\n<style scoped>\n    .dataframe tbody tr th:only-of-type {\n        vertical-align: middle;\n    }\n\n    .dataframe tbody tr th {\n        vertical-align: top;\n    }\n\n    .dataframe thead th {\n        text-align: right;\n    }\n</style>\n<table border=\"1\" class=\"dataframe\">\n  <thead>\n    <tr style=\"text-align: right;\">\n      <th></th>\n      <th>imdb_id</th>\n      <th>title</th>\n      <th>plot_synopsis</th>\n      <th>tags</th>\n      <th>split</th>\n      <th>synopsis_source</th>\n      <th>plot_pp</th>\n      <th>tag_pp</th>\n      <th>title_pp</th>\n    </tr>\n  </thead>\n  <tbody>\n    <tr>\n      <th>10426</th>\n      <td>tt6583664</td>\n      <td>Scapegoat</td>\n      <td>signif differ adapt origin novel wherea action...</td>\n      <td>revenge, suspenseful</td>\n      <td>test</td>\n      <td>wikipedia</td>\n      <td>signif differ adapt origin novel wherea action...</td>\n      <td>revenge suspenseful</td>\n      <td>scapegoat</td>\n    </tr>\n    <tr>\n      <th>10878</th>\n      <td>tt0076911</td>\n      <td>What a Nightmare, Charlie Brown!</td>\n      <td>one winter day char brown tri pretend musher s...</td>\n      <td>psychedelic</td>\n      <td>test</td>\n      <td>wikipedia</td>\n      <td>one winter day char brown tri pretend musher s...</td>\n      <td>psychedelic</td>\n      <td>nightmar charli brown</td>\n    </tr>\n    <tr>\n      <th>1776</th>\n      <td>tt0499448</td>\n      <td>The Chronicles of Narnia: Prince Caspian</td>\n      <td>cloudless night narnia eclip moon insid dark f...</td>\n      <td>good versus evil, violence, fantasy, boring, r...</td>\n      <td>test</td>\n      <td>imdb</td>\n      <td>cloudless night narnia eclip moon insid dark f...</td>\n      <td>goodversusevil violence fantasy boring romantic</td>\n      <td>chronicl narnia princ caspian</td>\n    </tr>\n    <tr>\n      <th>335</th>\n      <td>tt0077235</td>\n      <td>Big Wednesday</td>\n      <td>malibu california matt enforc jan michael vinc...</td>\n      <td>cult, philosophical</td>\n      <td>test</td>\n      <td>imdb</td>\n      <td>malibu california matt enforc jan michael vinc...</td>\n      <td>cult philosophical</td>\n      <td>big wednesday</td>\n    </tr>\n    <tr>\n      <th>5293</th>\n      <td>tt0498399</td>\n      <td>We Own the Night</td>\n      <td>new york novemb new breed narcot sweep great c...</td>\n      <td>revenge, suspenseful, murder, violence, flashback</td>\n      <td>test</td>\n      <td>imdb</td>\n      <td>new york novemb new breed narcot sweep great c...</td>\n      <td>revenge suspenseful murder violence flashback</td>\n      <td>night</td>\n    </tr>\n  </tbody>\n</table>\n</div>"
     },
     "execution_count": 35,
     "metadata": {},
     "output_type": "execute_result"
    }
   ],
   "source": [
    "df.head()"
   ],
   "metadata": {
    "collapsed": false,
    "pycharm": {
     "name": "#%%\n"
    }
   }
  },
  {
   "cell_type": "code",
   "execution_count": 36,
   "outputs": [],
   "source": [
    "# Drop old columns\n",
    "df.drop(['title', 'tags', 'plot_synopsis'], axis = 1, inplace = True)\n",
    "# Saving file\n",
    "df.to_csv('Data/preprocessed/mpst_full_data_pp.csv', index=False)"
   ],
   "metadata": {
    "collapsed": false,
    "pycharm": {
     "name": "#%%\n"
    }
   }
  },
  {
   "cell_type": "markdown",
   "source": [
    "# 4. Modeling"
   ],
   "metadata": {
    "collapsed": false
   }
  },
  {
   "cell_type": "markdown",
   "source": [
    "## 4.1 Vectorization"
   ],
   "metadata": {
    "collapsed": false
   }
  },
  {
   "cell_type": "code",
   "execution_count": 11,
   "outputs": [],
   "source": [
    "vectorizer = CountVectorizer(tokenizer = lambda x: x.split(), binary='true')\n",
    "multilabel_y = vectorizer.fit_transform(df['tag_pp'])"
   ],
   "metadata": {
    "collapsed": false,
    "pycharm": {
     "name": "#%%\n"
    }
   }
  },
  {
   "cell_type": "code",
   "execution_count": 12,
   "outputs": [
    {
     "data": {
      "text/plain": "(14752, 71)"
     },
     "execution_count": 12,
     "metadata": {},
     "output_type": "execute_result"
    }
   ],
   "source": [
    "multilabel_y.shape"
   ],
   "metadata": {
    "collapsed": false,
    "pycharm": {
     "name": "#%%\n"
    }
   }
  },
  {
   "cell_type": "markdown",
   "source": [
    "### Splitting data"
   ],
   "metadata": {
    "collapsed": false
   }
  },
  {
   "cell_type": "code",
   "execution_count": 13,
   "outputs": [],
   "source": [
    "# x_train1=preprocess_plot[2957:12393]\n",
    "# x_test1=preprocess_plot[:2957]\n",
    "# x_cv1=preprocess_plot[12393:]\n",
    "#\n",
    "# x_train2=preprocess_title[2957:12393]\n",
    "# x_test2=preprocess_title[:2957]\n",
    "# x_cv2=preprocess_title[12393:]\n",
    "#\n",
    "# y_train= multilabel_y[2957:12393]\n",
    "# y_test= multilabel_y[:2957]\n",
    "# y_cv=   multilabel_y[12393:]\n",
    "\n",
    "x_train_df = pd.DataFrame()\n",
    "x_test_df = pd.DataFrame()\n",
    "x_val_df = pd.DataFrame()\n",
    "\n",
    "x_train_df['title'] = df['title_pp'][2957:12393]\n",
    "x_train_df['plot'] = df['plot_pp'][2957:12393]\n",
    "y_train = multilabel_y[2957:12393]\n",
    "\n",
    "x_test_df['title'] = df['title_pp'][:2957]\n",
    "x_test_df['plot'] = df['plot_pp'][:2957]\n",
    "y_test = multilabel_y[:2957]\n",
    "\n",
    "x_val_df['title'] = df['title_pp'][12393:]\n",
    "x_val_df['plot'] = df['plot_pp'][12393:]\n",
    "y_val= multilabel_y[12393:]"
   ],
   "metadata": {
    "collapsed": false,
    "pycharm": {
     "name": "#%%\n"
    }
   }
  },
  {
   "cell_type": "markdown",
   "source": [
    "### 200 dim word2vec of plot"
   ],
   "metadata": {
    "collapsed": false
   }
  },
  {
   "cell_type": "code",
   "execution_count": 71,
   "outputs": [],
   "source": [
    "from gensim.models import Word2Vec\n",
    "from sklearn.feature_extraction.text import TfidfVectorizer\n",
    "trlst=[]\n",
    "for s in x_train_df['plot']:\n",
    "    trlst.append(s.split())\n",
    "\n",
    "w2vtr=Word2Vec(trlst,vector_size =200,min_count=5, workers=4)\n",
    "w2v_wordstr = list(w2vtr.wv.index_to_key)"
   ],
   "metadata": {
    "collapsed": false,
    "pycharm": {
     "name": "#%%\n"
    }
   }
  },
  {
   "cell_type": "code",
   "execution_count": 72,
   "outputs": [],
   "source": [
    "model= TfidfVectorizer(min_df=10, ngram_range=(1,3))\n",
    "tfidf=model.fit_transform(x_train_df['plot'])\n",
    "dictonary=dict(zip(model.get_feature_names(),model.idf_))"
   ],
   "metadata": {
    "collapsed": false,
    "pycharm": {
     "name": "#%%\n"
    }
   }
  },
  {
   "cell_type": "code",
   "execution_count": 85,
   "outputs": [
    {
     "name": "stderr",
     "output_type": "stream",
     "text": [
      "100%|██████████| 9436/9436 [1:26:12<00:00,  1.82it/s]  \n"
     ]
    }
   ],
   "source": [
    "tr=[]\n",
    "x= model.get_feature_names()\n",
    "for sentence in tqdm(x_train_df['plot']):\n",
    "    words=sentence.split()\n",
    "    vec= np.zeros(200)\n",
    "    sum=0\n",
    "    for word in words:\n",
    "        if word in w2v_wordstr and word in x:\n",
    "            tfidf=dictonary[word]*(words.count(word)/len(word))\n",
    "            vec+=w2vtr.wv[word]*tfidf\n",
    "            sum+=tfidf\n",
    "    if sum != 0:\n",
    "        vec=vec/sum\n",
    "    tr.append(vec)"
   ],
   "metadata": {
    "collapsed": false,
    "pycharm": {
     "name": "#%%\n"
    }
   }
  },
  {
   "cell_type": "code",
   "execution_count": 86,
   "outputs": [
    {
     "name": "stderr",
     "output_type": "stream",
     "text": [
      "100%|██████████| 2359/2359 [22:16<00:00,  1.76it/s] \n"
     ]
    }
   ],
   "source": [
    "val =[]\n",
    "x= model.get_feature_names()\n",
    "for sentence in tqdm(x_val_df['plot']):\n",
    "    words=sentence.split()\n",
    "    vec= np.zeros(200)\n",
    "    sum=0\n",
    "    for word in words:\n",
    "        if word in w2v_wordstr and word in x:\n",
    "            tfidf=dictonary[word]*(words.count(word)/len(word))\n",
    "            vec+=w2vtr.wv[word]*tfidf\n",
    "            sum+=tfidf\n",
    "    if sum != 0:\n",
    "        vec=vec/sum\n",
    "    val.append(vec)"
   ],
   "metadata": {
    "collapsed": false,
    "pycharm": {
     "name": "#%%\n"
    }
   }
  },
  {
   "cell_type": "code",
   "execution_count": 87,
   "outputs": [
    {
     "name": "stderr",
     "output_type": "stream",
     "text": [
      "100%|██████████| 2957/2957 [27:29<00:00,  1.79it/s]  \n"
     ]
    }
   ],
   "source": [
    "ts =[]\n",
    "x= model.get_feature_names()\n",
    "for sentence in tqdm(x_test_df['plot']):\n",
    "    words=sentence.split()\n",
    "    vec= np.zeros(200)\n",
    "    sum=0\n",
    "    for word in words:\n",
    "        if word in w2v_wordstr and word in x:\n",
    "            tfidf=dictonary[word]*(words.count(word)/len(word))\n",
    "            vec+=w2vtr.wv[word]*tfidf\n",
    "            sum+=tfidf\n",
    "    if sum != 0:\n",
    "        vec=vec/sum\n",
    "    ts.append(vec)"
   ],
   "metadata": {
    "collapsed": false,
    "pycharm": {
     "name": "#%%\n"
    }
   }
  },
  {
   "cell_type": "markdown",
   "source": [
    "## TF*IDF"
   ],
   "metadata": {
    "collapsed": false
   }
  },
  {
   "cell_type": "code",
   "execution_count": 89,
   "outputs": [],
   "source": [
    "vectorizer =TfidfVectorizer(min_df=10,ngram_range=(1,3))\n",
    "x_train_multilabel_plot = vectorizer.fit_transform(x_train_df['plot'])\n",
    "x_val_multilabel_plot = vectorizer.transform(x_val_df['plot'])\n",
    "x_test_multilabel_plot = vectorizer.transform(x_test_df['plot'])"
   ],
   "metadata": {
    "collapsed": false,
    "pycharm": {
     "name": "#%%\n"
    }
   }
  },
  {
   "cell_type": "code",
   "execution_count": 90,
   "outputs": [
    {
     "name": "stdout",
     "output_type": "stream",
     "text": [
      "Dimensions of train data X: (9436, 50037) Y : (9436, 71)\n",
      "Dimensions of cv data X: (2359, 50037) Y : (2359, 71)\n",
      "Dimensions of test data X: (2957, 50037) Y: (2957, 71)\n"
     ]
    }
   ],
   "source": [
    "print(\"Dimensions of train data X:\",x_train_multilabel_plot.shape, \"Y :\",y_train.shape)\n",
    "print(\"Dimensions of cv data X:\",x_val_multilabel_plot.shape, \"Y :\",y_val.shape)\n",
    "print(\"Dimensions of test data X:\",x_test_multilabel_plot.shape,\"Y:\",y_test.shape)"
   ],
   "metadata": {
    "collapsed": false,
    "pycharm": {
     "name": "#%%\n"
    }
   }
  },
  {
   "cell_type": "markdown",
   "source": [
    "## Fourgram of plot"
   ],
   "metadata": {
    "collapsed": false
   }
  },
  {
   "cell_type": "code",
   "execution_count": 93,
   "outputs": [],
   "source": [
    "vectorizer =TfidfVectorizer(min_df=5,ngram_range=(4,4))\n",
    "x_train_multilabel_plot_2 = vectorizer.fit_transform(x_train_df['plot'])\n",
    "x_val_multilabel_plot_2 = vectorizer.transform(x_val_df['plot'])\n",
    "x_test_multilabel_plot_2 = vectorizer.transform(x_test_df['plot'])"
   ],
   "metadata": {
    "collapsed": false,
    "pycharm": {
     "name": "#%%\n"
    }
   }
  },
  {
   "cell_type": "code",
   "execution_count": 95,
   "outputs": [
    {
     "name": "stdout",
     "output_type": "stream",
     "text": [
      "Dimensions of train data X: (9436, 3591) Y : (9436, 71)\n",
      "Dimensions of cv data X: (2359, 3591) Y : (2359, 71)\n",
      "Dimensions of test data X: (2957, 3591) Y: (2957, 71)\n"
     ]
    }
   ],
   "source": [
    "\n",
    "print(\"Dimensions of train data X:\",x_train_multilabel_plot_2.shape, \"Y :\",y_train.shape)\n",
    "print(\"Dimensions of cv data X:\",x_val_multilabel_plot_2.shape, \"Y :\",y_val.shape)\n",
    "print(\"Dimensions of test data X:\",x_test_multilabel_plot_2.shape,\"Y:\",y_test.shape)"
   ],
   "metadata": {
    "collapsed": false,
    "pycharm": {
     "name": "#%%\n"
    }
   }
  },
  {
   "cell_type": "markdown",
   "source": [
    "## unigram and bigram of title"
   ],
   "metadata": {
    "collapsed": false
   }
  },
  {
   "cell_type": "code",
   "execution_count": 94,
   "outputs": [],
   "source": [
    "vectorizer =TfidfVectorizer(ngram_range=(1,2))\n",
    "x_train_multilabel_title = vectorizer.fit_transform(x_train_df['title'])\n",
    "x_val_multilabel_title = vectorizer.transform(x_val_df['title'])\n",
    "x_test_multilabel_title = vectorizer.transform(x_test_df['title'])"
   ],
   "metadata": {
    "collapsed": false,
    "pycharm": {
     "name": "#%%\n"
    }
   }
  },
  {
   "cell_type": "code",
   "execution_count": 96,
   "outputs": [
    {
     "name": "stdout",
     "output_type": "stream",
     "text": [
      "Dimensions of train data X: (9436, 17467) Y : (9436, 71)\n",
      "Dimensions of cv data X: (2359, 17467) Y : (2359, 71)\n",
      "Dimensions of test data X: (2957, 17467) Y: (2957, 71)\n"
     ]
    }
   ],
   "source": [
    "print(\"Dimensions of train data X:\",x_train_multilabel_title.shape, \"Y :\",y_train.shape)\n",
    "print(\"Dimensions of cv data X:\",x_val_multilabel_title.shape, \"Y :\",y_val.shape)\n",
    "print(\"Dimensions of test data X:\",x_test_multilabel_title.shape,\"Y:\",y_test.shape)"
   ],
   "metadata": {
    "collapsed": false,
    "pycharm": {
     "name": "#%%\n"
    }
   }
  },
  {
   "cell_type": "markdown",
   "source": [
    "## Char gram of plot"
   ],
   "metadata": {
    "collapsed": false
   }
  },
  {
   "cell_type": "code",
   "execution_count": 97,
   "outputs": [],
   "source": [
    "vectorizer =TfidfVectorizer(min_df=10,analyzer='char',ngram_range=(4,6))\n",
    "x_train_multilabel_plot_3 = vectorizer.fit_transform(x_train_df['plot'])\n",
    "x_val_multilabel_plot_3 = vectorizer.transform(x_val_df['plot'])\n",
    "x_test_multilabel_plot_3 = vectorizer.transform(x_test_df['plot'])"
   ],
   "metadata": {
    "collapsed": false,
    "pycharm": {
     "name": "#%%\n"
    }
   }
  },
  {
   "cell_type": "markdown",
   "source": [
    "## matrix factorization using nmf\n"
   ],
   "metadata": {
    "collapsed": false
   }
  },
  {
   "cell_type": "code",
   "execution_count": 98,
   "outputs": [],
   "source": [
    "vectorizer =CountVectorizer(min_df=10)\n",
    "x_train_multilabel_plot_4 = vectorizer.fit_transform(x_train_df['plot'])\n",
    "x_val_multilabel_plot_4 = vectorizer.transform(x_val_df['plot'])\n",
    "x_test_multilabel_plot_4 = vectorizer.transform(x_test_df['plot'])"
   ],
   "metadata": {
    "collapsed": false,
    "pycharm": {
     "name": "#%%\n"
    }
   }
  },
  {
   "cell_type": "code",
   "execution_count": 99,
   "outputs": [
    {
     "name": "stdout",
     "output_type": "stream",
     "text": [
      "Dimensions of train data X: (9436, 13508) Y : (9436, 71)\n",
      "Dimensions of cv data X: (2359, 13508) Y : (2359, 71)\n",
      "Dimensions of test data X: (2957, 13508) Y: (2957, 71)\n"
     ]
    }
   ],
   "source": [
    "print(\"Dimensions of train data X:\",x_train_multilabel_plot_4.shape, \"Y :\",y_train.shape)\n",
    "print(\"Dimensions of cv data X:\",x_val_multilabel_plot_4.shape, \"Y :\",y_val.shape)\n",
    "print(\"Dimensions of test data X:\",x_test_multilabel_plot_4.shape,\"Y:\",y_test.shape)"
   ],
   "metadata": {
    "collapsed": false,
    "pycharm": {
     "name": "#%%\n"
    }
   }
  },
  {
   "cell_type": "code",
   "execution_count": 100,
   "outputs": [],
   "source": [
    "from sklearn.decomposition import NMF\n",
    "nmf=NMF(n_components=200)\n",
    "tr1=nmf.fit_transform(x_train_multilabel_plot_4)\n",
    "val1=nmf.transform(x_val_multilabel_plot_4)\n",
    "test1=nmf.transform(x_test_multilabel_plot_4)"
   ],
   "metadata": {
    "collapsed": false,
    "pycharm": {
     "name": "#%%\n"
    }
   }
  },
  {
   "cell_type": "markdown",
   "source": [
    "## (unigram+bigram+trigram+fourgram+word2vec) of plot+unigram and bigram of title+nmf of plot"
   ],
   "metadata": {
    "collapsed": false
   }
  },
  {
   "cell_type": "code",
   "execution_count": 107,
   "outputs": [
    {
     "name": "stdout",
     "output_type": "stream",
     "text": [
      "(9436, 526237)\n",
      "(2359, 526237)\n",
      "(2957, 526237)\n"
     ]
    }
   ],
   "source": [
    "from scipy.sparse import hstack\n",
    "x_train_multilabel = hstack([x_train_multilabel_plot,x_train_multilabel_plot_2,x_train_multilabel_title,x_train_multilabel_plot_3,tr,tr1])\n",
    "print(x_train_multilabel.shape)\n",
    "\n",
    "x_val_multilabel = hstack([x_val_multilabel_plot,x_val_multilabel_plot_2,x_val_multilabel_title,x_val_multilabel_plot_3,val,val1])\n",
    "print(x_val_multilabel.shape)\n",
    "\n",
    "x_test_multilabel = hstack([x_test_multilabel_plot, x_test_multilabel_plot_2,x_test_multilabel_title,x_test_multilabel_plot_3, ts,test1])\n",
    "print(x_test_multilabel.shape)"
   ],
   "metadata": {
    "collapsed": false,
    "pycharm": {
     "name": "#%%\n"
    }
   }
  },
  {
   "cell_type": "code",
   "execution_count": 108,
   "outputs": [
    {
     "name": "stdout",
     "output_type": "stream",
     "text": [
      "Stored 'dict_store' (dict)\n"
     ]
    }
   ],
   "source": [
    "\n",
    "dict_store = {\"x_train_multilabel\": x_train_multilabel, \"x_val_multilabel\": x_val_multilabel, \"x_test_multilabel\" : x_test_multilabel, \"tr\": tr, \"ts\": ts, \"val\":val, \"multilabel_y\": multilabel_y}\n",
    "%store dict_store"
   ],
   "metadata": {
    "collapsed": false,
    "pycharm": {
     "name": "#%%\n"
    }
   }
  },
  {
   "cell_type": "markdown",
   "source": [
    "# 4.2 Logistic Regression"
   ],
   "metadata": {
    "collapsed": false
   }
  },
  {
   "cell_type": "code",
   "execution_count": 110,
   "outputs": [
    {
     "name": "stdout",
     "output_type": "stream",
     "text": [
      "Micro-average quality numbers for C= 0.01\n",
      "F1-measure for train: 0.3230\n",
      " F1-measure for cv: 0.3258\n",
      "Micro-average quality numbers for C= 0.1\n",
      "F1-measure for train: 0.3793\n",
      " F1-measure for cv: 0.3708\n",
      "Micro-average quality numbers for C= 1\n",
      "F1-measure for train: 0.4915\n",
      " F1-measure for cv: 0.3956\n",
      "Micro-average quality numbers for C= 10\n",
      "F1-measure for train: 0.9660\n",
      " F1-measure for cv: 0.3463\n",
      "Time taken to run this cell : 1:21:14.604991\n"
     ]
    }
   ],
   "source": [
    "start = datetime.now()\n",
    "step_sizes=[0.01,0.1,1,10]\n",
    "for alpha in step_sizes:\n",
    "    lr_classifier = OneVsRestClassifier(LogisticRegression(C=alpha,penalty='l1', solver='liblinear', tol=0.001)) # Lasso regression regularization\n",
    "    lr_classifier.fit(x_train_multilabel, y_train)\n",
    "    y_pred_prob = lr_classifier.predict_proba(x_train_multilabel)\n",
    "\n",
    "    prob_limit=0.2\n",
    "\n",
    "    lr_predictions = (y_pred_prob >= prob_limit).astype(int)\n",
    "    y_pred_probc = lr_classifier.predict_proba(x_val_multilabel)\n",
    "\n",
    "    lr_predictions_2 = (y_pred_probc >= prob_limit).astype(int)\n",
    "\n",
    "    f_train = f1_score(y_train, lr_predictions, average='micro')\n",
    "    f_val = f1_score(y_val, lr_predictions_2, average='micro')\n",
    "\n",
    "    print(\"Micro-average quality numbers for C=\", alpha)\n",
    "    print(\"F1-measure for train: {:.4f}\".format( f_train))\n",
    "    print(\" F1-measure for val: {:.4f}\".format( f_val))\n",
    "print(\"Time taken to run this cell :\", datetime.now() - start)"
   ],
   "metadata": {
    "collapsed": false,
    "pycharm": {
     "name": "#%%\n"
    }
   }
  },
  {
   "cell_type": "code",
   "execution_count": 111,
   "outputs": [],
   "source": [
    "wandb.log({'Logistic regression F1-measure for train: {:.4f}': f_train, 'Logistic regression F1-measure for val: {:.4f}': f_val })"
   ],
   "metadata": {
    "collapsed": false,
    "pycharm": {
     "name": "#%%\n"
    }
   }
  },
  {
   "cell_type": "markdown",
   "source": [
    "## Decreasing threshold on test\n"
   ],
   "metadata": {
    "collapsed": false
   }
  },
  {
   "cell_type": "code",
   "execution_count": 112,
   "outputs": [
    {
     "name": "stdout",
     "output_type": "stream",
     "text": [
      "Micro-average quality numbers for C=0.01 and threshold= 0.2\n",
      " F1-measure for test: 0.3898\n"
     ]
    }
   ],
   "source": [
    "lr_classifier = OneVsRestClassifier(LogisticRegression(C=1,penalty='l2',tol=0.001))     # Ridge\n",
    "lr_classifier.fit(x_train_multilabel, y_train)\n",
    "y_pred_prob = lr_classifier.predict_proba(x_test_multilabel)\n",
    "\n",
    "prob_limit=0.2\n",
    "\n",
    "y_pred_l2 = (y_pred_prob >= prob_limit).astype(int)\n",
    "f1_test = f1_score(y_test, y_pred_l2, average='micro')\n",
    "print(\"Micro-average quality numbers for C=0.01 and threshold=\",prob_limit)\n",
    "print(\" F1-measure for test: {:.4f}\".format( f1_test))"
   ],
   "metadata": {
    "collapsed": false,
    "pycharm": {
     "name": "#%%\n"
    }
   }
  },
  {
   "cell_type": "code",
   "execution_count": 113,
   "outputs": [],
   "source": [
    "wandb.log({'Logistic regression F1-measure l2 for test: {:.4f}': f1_test})"
   ],
   "metadata": {
    "collapsed": false,
    "pycharm": {
     "name": "#%%\n"
    }
   }
  },
  {
   "cell_type": "code",
   "execution_count": 119,
   "outputs": [],
   "source": [
    "# Saving the model\n",
    "filename = \"lr_model.pickle\"\n",
    "pickle.dump(lr_classifier, open(filename, \"wb\"))\n",
    "\n",
    "# load model\n",
    "# loaded_model = pickle.load(open(filename, \"rb\"))"
   ],
   "metadata": {
    "collapsed": false,
    "pycharm": {
     "name": "#%%\n"
    }
   }
  },
  {
   "cell_type": "markdown",
   "source": [
    "## 4.3 Naive Bayes"
   ],
   "metadata": {
    "collapsed": false
   }
  },
  {
   "cell_type": "code",
   "execution_count": 115,
   "outputs": [
    {
     "name": "stdout",
     "output_type": "stream",
     "text": [
      "(9436, 71495)\n",
      "(2359, 71495)\n",
      "(2957, 71495)\n"
     ]
    }
   ],
   "source": [
    "x_train_multilabel = hstack([x_train_multilabel_plot,x_train_multilabel_plot_2,x_train_multilabel_title,tr,tr1])\n",
    "print(x_train_multilabel.shape)\n",
    "\n",
    "x_val_multilabel = hstack([x_val_multilabel_plot,x_val_multilabel_plot_2,x_val_multilabel_title, val,val1])\n",
    "print(x_val_multilabel.shape)\n",
    "\n",
    "x_test_multilabel = hstack([x_test_multilabel_plot, x_test_multilabel_plot_2,x_test_multilabel_title, ts, test1])\n",
    "print(x_test_multilabel.shape)"
   ],
   "metadata": {
    "collapsed": false,
    "pycharm": {
     "name": "#%%\n"
    }
   }
  },
  {
   "cell_type": "code",
   "execution_count": 116,
   "outputs": [
    {
     "name": "stdout",
     "output_type": "stream",
     "text": [
      "Micro-average quality numbers for C= 0.001\n",
      " F1-measure for train: 0.7897\n",
      " F1-measure for cv: 0.3327\n",
      "Micro-average quality numbers for C= 0.01\n",
      " F1-measure for train: 0.7419\n",
      " F1-measure for cv: 0.3419\n",
      "Micro-average quality numbers for C= 0.1\n",
      " F1-measure for train: 0.5849\n",
      " F1-measure for cv: 0.3187\n",
      "Micro-average quality numbers for C= 1\n",
      " F1-measure for train: 0.3391\n",
      " F1-measure for cv: 0.2525\n",
      "Micro-average quality numbers for C= 10\n",
      " F1-measure for train: 0.1496\n",
      " F1-measure for cv: 0.1302\n",
      "Time taken to run this cell : 0:04:24.258680\n"
     ]
    }
   ],
   "source": [
    "start = datetime.now()\n",
    "hp = [0.001,0.01,0.1,1,10]\n",
    "\n",
    "for alpha in hp:\n",
    "    nb_classifier = OneVsRestClassifier(BernoulliNB(alpha=alpha))\n",
    "    nb_classifier.fit(x_train_multilabel, y_train)\n",
    "    y_train_pred = nb_classifier.predict(x_train_multilabel)\n",
    "    y_val_pred = nb_classifier.predict(x_val_multilabel)\n",
    "    f_train_nb = f1_score(y_train, y_train_pred, average='micro')\n",
    "    f_val_nb = f1_score(y_val, y_val_pred, average='micro')\n",
    "    print(\"Micro-average quality numbers for C=\", alpha)\n",
    "    print(\" F1-measure for train: {:.4f}\".format( f_train_nb))\n",
    "    print(\" F1-measure for cv: {:.4f}\".format( f_val_nb))\n",
    "\n",
    "    wandb.log({'Naive Bayes F1-measure for train: {:.4f}': f_train_nb, 'Naive Baye F1-measure for val: {:.4f}': f_val_nb })\n",
    "\n",
    "print(\"Time taken to run this cell :\", datetime.now() - start)"
   ],
   "metadata": {
    "collapsed": false,
    "pycharm": {
     "name": "#%%\n"
    }
   }
  },
  {
   "cell_type": "code",
   "execution_count": 117,
   "outputs": [
    {
     "name": "stdout",
     "output_type": "stream",
     "text": [
      "Micro-average quality numbers for C=0.001 \n",
      " F1-measure for test: 0.3298\n"
     ]
    }
   ],
   "source": [
    "nb_classifier = OneVsRestClassifier(BernoulliNB(alpha=0.001))\n",
    "nb_classifier.fit(x_train_multilabel, y_train)\n",
    "y_test_pred_prob_nb = nb_classifier.predict_proba(x_test_multilabel)\n",
    "y_test_pred = (y_test_pred_prob_nb >= 0.01).astype(int)\n",
    "f_test_nb = f1_score(y_test, y_test_pred, average='micro')\n",
    "print(\"Micro-average quality numbers for C=0.001 \")\n",
    "print(\" F1-measure for test: {:.4f}\".format( f_test_nb))\n",
    "wandb.log({'Naive Bayes F1-measure for test: {:.4f}': f_test_nb})"
   ],
   "metadata": {
    "collapsed": false,
    "pycharm": {
     "name": "#%%\n"
    }
   }
  },
  {
   "cell_type": "code",
   "execution_count": 120,
   "outputs": [],
   "source": [
    "# Saving the model\n",
    "filename = \"nb_model.pickle\"\n",
    "pickle.dump(nb_classifier, open(filename, \"wb\"))\n",
    "\n",
    "# load model\n",
    "# loaded_model = pickle.load(open(filename, \"rb\"))"
   ],
   "metadata": {
    "collapsed": false,
    "pycharm": {
     "name": "#%%\n"
    }
   }
  },
  {
   "cell_type": "markdown",
   "source": [
    "## 4.4 Topic Modelling (LDA) + TFIDF\n",
    "for using randomised search cv and 3 fold cv we merge train and cv together\n"
   ],
   "metadata": {
    "collapsed": false,
    "pycharm": {
     "name": "#%% md\n"
    }
   }
  },
  {
   "cell_type": "code",
   "execution_count": 177,
   "outputs": [],
   "source": [
    "x_train_df_2 = pd.DataFrame()\n",
    "x_test_df_2 = pd.DataFrame()\n",
    "\n",
    "x_train_df_2['plot'] = df['plot_pp'][2957:]\n",
    "y_train_2 = multilabel_y[2957:]\n",
    "\n",
    "x_test_df_2['plot'] = df['plot_pp'][2957:]\n",
    "y_test_2 = multilabel_y[2957:]"
   ],
   "metadata": {
    "collapsed": false,
    "pycharm": {
     "name": "#%%\n"
    }
   }
  },
  {
   "cell_type": "code",
   "execution_count": 178,
   "outputs": [],
   "source": [
    "vectorizer =TfidfVectorizer(min_df=10,ngram_range=(1,3))\n",
    "x_train_multilabel1 = vectorizer.fit_transform(x_train_df_2['plot'])\n",
    "x_test_multilabel1 = vectorizer.transform(x_test_df_2['plot'])"
   ],
   "metadata": {
    "collapsed": false,
    "pycharm": {
     "name": "#%%\n"
    }
   }
  },
  {
   "cell_type": "code",
   "execution_count": 179,
   "outputs": [
    {
     "data": {
      "text/plain": "(11795, 66165)"
     },
     "execution_count": 179,
     "metadata": {},
     "output_type": "execute_result"
    }
   ],
   "source": [
    "x_train_multilabel1.shape"
   ],
   "metadata": {
    "collapsed": false,
    "pycharm": {
     "name": "#%%\n"
    }
   }
  },
  {
   "cell_type": "code",
   "execution_count": 181,
   "outputs": [],
   "source": [
    "from sklearn.decomposition import LatentDirichletAllocation\n",
    "\n",
    "lda=LatentDirichletAllocation()\n",
    "tr2=lda.fit_transform(x_train_multilabel1)\n",
    "ts2=lda.transform(x_test_multilabel1)"
   ],
   "metadata": {
    "collapsed": false,
    "pycharm": {
     "name": "#%%\n"
    }
   }
  },
  {
   "cell_type": "code",
   "execution_count": 182,
   "outputs": [
    {
     "name": "stdout",
     "output_type": "stream",
     "text": [
      "(11795, 66175)\n",
      "(11795, 66175)\n"
     ]
    }
   ],
   "source": [
    "from scipy.sparse import hstack\n",
    "x_train_multilabel_2 = hstack([x_train_multilabel1,tr2])\n",
    "print(x_train_multilabel_2.shape)\n",
    "x_test_multilabel_2 = hstack([x_test_multilabel1,ts2])\n",
    "print(x_test_multilabel_2.shape)"
   ],
   "metadata": {
    "collapsed": false,
    "pycharm": {
     "name": "#%%\n"
    }
   }
  },
  {
   "cell_type": "markdown",
   "source": [
    "### logistic regression\n"
   ],
   "metadata": {
    "collapsed": false
   }
  },
  {
   "cell_type": "code",
   "execution_count": 184,
   "outputs": [
    {
     "name": "stdout",
     "output_type": "stream",
     "text": [
      "Micro-average quality numbers for C= 10\n",
      "F1-measure for train: 0.5539\n",
      " F1-measure for val: 0.3463\n",
      "Time taken to run this cell : 4:09:59.306633\n"
     ]
    }
   ],
   "source": [
    "# I am keeping same hyperparameter which i got after tuning above\n",
    "lr_classifier = OneVsRestClassifier(LogisticRegression(C=1 ,penalty='l2',tol=0.001)) # Ridge regression regularization\n",
    "lr_classifier.fit(x_train_multilabel_2, y_train_2)\n",
    "y_pred_prob = lr_classifier.predict_proba(x_train_multilabel_2)\n",
    "\n",
    "prob_limit=0.2\n",
    "\n",
    "lr_predictions = (y_pred_prob >= prob_limit).astype(int)\n",
    "y_pred_probc = lr_classifier.predict_proba(x_test_multilabel_2)\n",
    "\n",
    "lr_predictions_2 = (y_pred_probc >= prob_limit).astype(int)\n",
    "\n",
    "f_train = f1_score(y_train_2, lr_predictions, average='micro')\n",
    "f_test = f1_score(y_test_2, lr_predictions_2, average='micro')\n",
    "\n",
    "print(\"Micro-average quality numbers for C=\", 1)\n",
    "print(\"F1-measure for train: {:.4f}\".format( f_train))\n",
    "print(\" F1-measure for test: {:.4f}\".format( f_val))\n",
    "print(\"Time taken to run this cell :\", datetime.now() - start)\n",
    "\n",
    "wandb.log({'Logistic regression - 2 | F1-measure l2 for test: {:.4f}': f1_test})"
   ],
   "metadata": {
    "collapsed": false,
    "pycharm": {
     "name": "#%%\n"
    }
   }
  },
  {
   "cell_type": "code",
   "execution_count": 186,
   "outputs": [],
   "source": [
    "filename = \"lr_topicmodelling_model.pickle\"\n",
    "pickle.dump(lr_classifier, open(filename, \"wb\"))\n",
    "\n",
    "# load model\n",
    "# loaded_model = pickle.load(open(filename, \"rb\"))"
   ],
   "metadata": {
    "collapsed": false,
    "pycharm": {
     "name": "#%%\n"
    }
   }
  },
  {
   "cell_type": "code",
   "execution_count": 185,
   "outputs": [
    {
     "name": "stdout",
     "output_type": "stream",
     "text": [
      "+------------------------+---------------------+----------+---------+\n",
      "|       vectorizer       |        Model        | train f1 | test f1 |\n",
      "+------------------------+---------------------+----------+---------+\n",
      "|         tfidf          | logistic regression |  0.4915  |  0.3956 |\n",
      "|         tfidf          |     naive bayes     |  0.3391  |  0.2525 |\n",
      "| topic modelling+ tfidf | Logistic Regression |  0.5539  |  0.3463 |\n",
      "+------------------------+---------------------+----------+---------+\n"
     ]
    }
   ],
   "source": [
    "from prettytable import PrettyTable\n",
    "\n",
    "# Initializing table object\n",
    "x = PrettyTable()\n",
    "\n",
    "x.field_names = [\"vectorizer\",\"Model\",\"train f1\",\"test f1\"]\n",
    "x.add_row([\"tfidf\",\"logistic regression\",\"0.4915\",\"0.3956\" ])\n",
    "x.add_row([\"tfidf\",\"naive bayes\",\"0.3391\",\"0.2525\" ])\n",
    "x.add_row([\"topic modelling+ tfidf\",\"Logistic Regression\",\"0.5539\",\"0.3463\" ])\n",
    "print(x)"
   ],
   "metadata": {
    "collapsed": false,
    "pycharm": {
     "name": "#%%\n"
    }
   }
  },
  {
   "cell_type": "markdown",
   "source": [
    "# 4.5 Deep Learning"
   ],
   "metadata": {
    "collapsed": false
   }
  },
  {
   "cell_type": "code",
   "execution_count": 37,
   "outputs": [
    {
     "data": {
      "text/plain": "6070"
     },
     "execution_count": 37,
     "metadata": {},
     "output_type": "execute_result"
    }
   ],
   "source": [
    "def max_len(sentence):\n",
    "    word=sentence.split()\n",
    "    return len(word)\n",
    "\n",
    "max(df['plot_pp'].apply(max_len))"
   ],
   "metadata": {
    "collapsed": false,
    "pycharm": {
     "name": "#%%\n"
    }
   }
  },
  {
   "cell_type": "code",
   "execution_count": 68,
   "outputs": [
    {
     "data": {
      "text/plain": "         imdb_id split synopsis_source  \\\n14751  tt0133046   val       wikipedia   \n\n                                                 plot_pp  \\\n14751  leigh ann watson high school student live smal...   \n\n                       tag_pp         title_pp  \n14751  romantic comedy murder  teach mrs tingl  ",
      "text/html": "<div>\n<style scoped>\n    .dataframe tbody tr th:only-of-type {\n        vertical-align: middle;\n    }\n\n    .dataframe tbody tr th {\n        vertical-align: top;\n    }\n\n    .dataframe thead th {\n        text-align: right;\n    }\n</style>\n<table border=\"1\" class=\"dataframe\">\n  <thead>\n    <tr style=\"text-align: right;\">\n      <th></th>\n      <th>imdb_id</th>\n      <th>split</th>\n      <th>synopsis_source</th>\n      <th>plot_pp</th>\n      <th>tag_pp</th>\n      <th>title_pp</th>\n    </tr>\n  </thead>\n  <tbody>\n    <tr>\n      <th>14751</th>\n      <td>tt0133046</td>\n      <td>val</td>\n      <td>wikipedia</td>\n      <td>leigh ann watson high school student live smal...</td>\n      <td>romantic comedy murder</td>\n      <td>teach mrs tingl</td>\n    </tr>\n  </tbody>\n</table>\n</div>"
     },
     "execution_count": 68,
     "metadata": {},
     "output_type": "execute_result"
    }
   ],
   "source": [
    "df[-1:]"
   ],
   "metadata": {
    "collapsed": false,
    "pycharm": {
     "name": "#%%\n"
    }
   }
  },
  {
   "cell_type": "code",
   "execution_count": 76,
   "outputs": [],
   "source": [
    "# Merging train and val\n",
    "x_train_df = pd.concat([x_train_df, x_val_df])"
   ],
   "metadata": {
    "collapsed": false,
    "pycharm": {
     "name": "#%%\n"
    }
   }
  },
  {
   "cell_type": "code",
   "execution_count": 142,
   "outputs": [],
   "source": [
    "from sklearn.feature_extraction.text import CountVectorizer\n",
    "vectorizer = CountVectorizer(tokenizer = lambda x: x.split(), binary='true')\n",
    "\n",
    "\n",
    "x_train_df['title'] = df['title_pp'][2957:]\n",
    "x_train_df['plot'] = df['plot_pp'][2957:]\n",
    "y_train = vectorizer.fit_transform(df['tag_pp'][2957:]).toarray()\n",
    "\n",
    "x_test_df['title'] = df['title_pp'][:2957]\n",
    "x_test_df['plot'] = df['plot_pp'][:2957]\n",
    "y_test = vectorizer.transform(df['tag_pp'][:2957]).toarray()\n"
   ],
   "metadata": {
    "collapsed": false,
    "pycharm": {
     "name": "#%%\n"
    }
   }
  },
  {
   "cell_type": "code",
   "execution_count": 143,
   "outputs": [
    {
     "data": {
      "text/plain": "                     title                                               plot\n2957                second  second mysteri deal obsess etern youth mysteri...\n2958       shanghai knight  film open forbid citi chon lin fann wong drink...\n2959   bollywood hollywood  bollywood hollywood centr charact rahul seth r...\n2960       australian rule  isol fiction south australian fish town prospe...\n2961                betray  episod present backward narrat begin castl roc...\n...                    ...                                                ...\n14747                super  film start februari steel plant lillian ohio e...\n14748           profession  mexican revolut rancher j w grant hire four me...\n14749          wicker park  matt simon young adverti execut return chicago...\n14750  string playtim hell  year ago famous toy maker lose famili great fi...\n14751      teach mrs tingl  leigh ann watson high school student live smal...\n\n[11795 rows x 2 columns]",
      "text/html": "<div>\n<style scoped>\n    .dataframe tbody tr th:only-of-type {\n        vertical-align: middle;\n    }\n\n    .dataframe tbody tr th {\n        vertical-align: top;\n    }\n\n    .dataframe thead th {\n        text-align: right;\n    }\n</style>\n<table border=\"1\" class=\"dataframe\">\n  <thead>\n    <tr style=\"text-align: right;\">\n      <th></th>\n      <th>title</th>\n      <th>plot</th>\n    </tr>\n  </thead>\n  <tbody>\n    <tr>\n      <th>2957</th>\n      <td>second</td>\n      <td>second mysteri deal obsess etern youth mysteri...</td>\n    </tr>\n    <tr>\n      <th>2958</th>\n      <td>shanghai knight</td>\n      <td>film open forbid citi chon lin fann wong drink...</td>\n    </tr>\n    <tr>\n      <th>2959</th>\n      <td>bollywood hollywood</td>\n      <td>bollywood hollywood centr charact rahul seth r...</td>\n    </tr>\n    <tr>\n      <th>2960</th>\n      <td>australian rule</td>\n      <td>isol fiction south australian fish town prospe...</td>\n    </tr>\n    <tr>\n      <th>2961</th>\n      <td>betray</td>\n      <td>episod present backward narrat begin castl roc...</td>\n    </tr>\n    <tr>\n      <th>...</th>\n      <td>...</td>\n      <td>...</td>\n    </tr>\n    <tr>\n      <th>14747</th>\n      <td>super</td>\n      <td>film start februari steel plant lillian ohio e...</td>\n    </tr>\n    <tr>\n      <th>14748</th>\n      <td>profession</td>\n      <td>mexican revolut rancher j w grant hire four me...</td>\n    </tr>\n    <tr>\n      <th>14749</th>\n      <td>wicker park</td>\n      <td>matt simon young adverti execut return chicago...</td>\n    </tr>\n    <tr>\n      <th>14750</th>\n      <td>string playtim hell</td>\n      <td>year ago famous toy maker lose famili great fi...</td>\n    </tr>\n    <tr>\n      <th>14751</th>\n      <td>teach mrs tingl</td>\n      <td>leigh ann watson high school student live smal...</td>\n    </tr>\n  </tbody>\n</table>\n<p>11795 rows × 2 columns</p>\n</div>"
     },
     "execution_count": 143,
     "metadata": {},
     "output_type": "execute_result"
    }
   ],
   "source": [
    "x_train_df"
   ],
   "metadata": {
    "collapsed": false,
    "pycharm": {
     "name": "#%%\n"
    }
   }
  },
  {
   "cell_type": "code",
   "execution_count": 144,
   "outputs": [
    {
     "data": {
      "text/plain": "array([[0, 0, 0, ..., 1, 0, 0],\n       [0, 0, 0, ..., 1, 0, 0],\n       [0, 0, 0, ..., 0, 0, 0],\n       ...,\n       [0, 0, 0, ..., 0, 0, 0],\n       [0, 0, 0, ..., 0, 0, 0],\n       [0, 0, 0, ..., 0, 0, 0]], dtype=int64)"
     },
     "execution_count": 144,
     "metadata": {},
     "output_type": "execute_result"
    }
   ],
   "source": [
    "y_train"
   ],
   "metadata": {
    "collapsed": false,
    "pycharm": {
     "name": "#%%\n"
    }
   }
  },
  {
   "cell_type": "code",
   "execution_count": 147,
   "outputs": [
    {
     "data": {
      "text/plain": "[array(['goodversusevil', 'suspenseful', 'violence'], dtype='<U17')]"
     },
     "execution_count": 147,
     "metadata": {},
     "output_type": "execute_result"
    }
   ],
   "source": [
    "vectorizer.inverse_transform(y_train[[5]])"
   ],
   "metadata": {
    "collapsed": false,
    "pycharm": {
     "name": "#%%\n"
    }
   }
  },
  {
   "cell_type": "code",
   "execution_count": 148,
   "outputs": [
    {
     "name": "stdout",
     "output_type": "stream",
     "text": [
      "82376\n"
     ]
    }
   ],
   "source": [
    "vect=Tokenizer()\n",
    "vect.fit_on_texts(x_train_df['plot'])\n",
    "vocab_size = len(vect.word_index) + 1\n",
    "print(vocab_size)"
   ],
   "metadata": {
    "collapsed": false,
    "pycharm": {
     "name": "#%%\n"
    }
   }
  },
  {
   "cell_type": "code",
   "execution_count": 149,
   "outputs": [
    {
     "name": "stdout",
     "output_type": "stream",
     "text": [
      "[[  274   546   412 ...     0     0     0]\n",
      " [   76    78  2465 ...     0     0     0]\n",
      " [15481  2342  4260 ...     0     0     0]\n",
      " ...\n",
      " [  756   805   104 ...     0     0     0]\n",
      " [   53   818  1440 ...     0     0     0]\n",
      " [ 3658   411  2201 ...     0     0     0]]\n"
     ]
    }
   ],
   "source": [
    "encoded_train = vect.texts_to_sequences(x_train_df['plot'])\n",
    "max_length = vocab_size\n",
    "padded_train = pad_sequences(encoded_train, maxlen=1200, padding='post')\n",
    "print(padded_train)"
   ],
   "metadata": {
    "collapsed": false,
    "pycharm": {
     "name": "#%%\n"
    }
   }
  },
  {
   "cell_type": "code",
   "execution_count": 150,
   "outputs": [],
   "source": [
    "encoded_test =  vect.texts_to_sequences(x_test_df['plot'])\n",
    "padded_test = pad_sequences(encoded_test, maxlen=1200, padding='post')\n",
    "encoded_val = vect.texts_to_sequences(x_val_df['plot'])\n",
    "padded_val = pad_sequences(encoded_val, maxlen=1200, padding='post')"
   ],
   "metadata": {
    "collapsed": false,
    "pycharm": {
     "name": "#%%\n"
    }
   }
  },
  {
   "cell_type": "code",
   "execution_count": 151,
   "outputs": [
    {
     "name": "stdout",
     "output_type": "stream",
     "text": [
      "Model: \"sequential_3\"\n",
      "_________________________________________________________________\n",
      " Layer (type)                Output Shape              Param #   \n",
      "=================================================================\n",
      " embedding_3 (Embedding)     (None, 1200, 50)          4118800   \n",
      "                                                                 \n",
      " lstm_6 (LSTM)               (None, 1200, 128)         91648     \n",
      "                                                                 \n",
      " dropout_6 (Dropout)         (None, 1200, 128)         0         \n",
      "                                                                 \n",
      " lstm_7 (LSTM)               (None, 64)                49408     \n",
      "                                                                 \n",
      " dropout_7 (Dropout)         (None, 64)                0         \n",
      "                                                                 \n",
      " dense_3 (Dense)             (None, 71)                4615      \n",
      "                                                                 \n",
      "=================================================================\n",
      "Total params: 4,264,471\n",
      "Trainable params: 4,264,471\n",
      "Non-trainable params: 0\n",
      "_________________________________________________________________\n"
     ]
    }
   ],
   "source": [
    "model = keras.Sequential()\n",
    "# Configuring the parameters\n",
    "model.add(layers.Embedding(vocab_size, output_dim=50, input_length=1200))\n",
    "model.add(layers.LSTM(128, return_sequences=True))\n",
    "# Adding a dropout layer\n",
    "model.add(layers.Dropout(0.5))\n",
    "model.add(layers.LSTM(64))\n",
    "model.add(layers.Dropout(0.5))\n",
    "# Adding a dense output layer with sigmoid activation\n",
    "model.add(layers.Dense(71, activation='sigmoid'))\n",
    "\n",
    "model.summary()"
   ],
   "metadata": {
    "collapsed": false,
    "pycharm": {
     "name": "#%%\n"
    }
   }
  },
  {
   "cell_type": "code",
   "execution_count": 152,
   "outputs": [],
   "source": [
    "from wandb.keras import WandbMetricsLogger\n",
    "\n",
    "METRICS = [\n",
    "    keras.metrics.TruePositives(name='tp'),\n",
    "    keras.metrics.FalsePositives(name='fp'),\n",
    "    keras.metrics.TrueNegatives(name='tn'),\n",
    "    keras.metrics.FalseNegatives(name='fn'),\n",
    "    keras.metrics.BinaryAccuracy(name='accuracy'),\n",
    "    keras.metrics.Precision(name='precision'),\n",
    "    keras.metrics.Recall(name='recall'),\n",
    "    keras.metrics.AUC(name='auc'),\n",
    "]\n",
    "\n",
    "model.compile(optimizer='adam', loss='binary_crossentropy', metrics = METRICS)"
   ],
   "metadata": {
    "collapsed": false,
    "pycharm": {
     "name": "#%%\n"
    }
   }
  },
  {
   "cell_type": "code",
   "execution_count": 153,
   "outputs": [
    {
     "data": {
      "text/plain": "numpy.ndarray"
     },
     "execution_count": 153,
     "metadata": {},
     "output_type": "execute_result"
    }
   ],
   "source": [
    "type(y_test)"
   ],
   "metadata": {
    "collapsed": false,
    "pycharm": {
     "name": "#%%\n"
    }
   }
  },
  {
   "cell_type": "code",
   "execution_count": 154,
   "outputs": [
    {
     "data": {
      "text/plain": "numpy.ndarray"
     },
     "execution_count": 154,
     "metadata": {},
     "output_type": "execute_result"
    }
   ],
   "source": [
    "type(y_train)"
   ],
   "metadata": {
    "collapsed": false,
    "pycharm": {
     "name": "#%%\n"
    }
   }
  },
  {
   "cell_type": "code",
   "execution_count": 156,
   "outputs": [
    {
     "name": "stdout",
     "output_type": "stream",
     "text": [
      "Epoch 1/16\n",
      "738/738 [==============================] - 96s 130ms/step - loss: 0.1525 - tp: 1267.0000 - fp: 2674.0000 - tn: 799671.0000 - fn: 33833.0000 - accuracy: 0.9564 - precision: 0.3215 - recall: 0.0361 - auc: 0.7799 - val_loss: 0.1413 - val_tp: 0.0000e+00 - val_fp: 0.0000e+00 - val_tn: 200938.0000 - val_fn: 9009.0000 - val_accuracy: 0.9571 - val_precision: 0.0000e+00 - val_recall: 0.0000e+00 - val_auc: 0.8304\n",
      "Epoch 2/16\n",
      "738/738 [==============================] - 94s 127ms/step - loss: 0.1753 - tp: 414.0000 - fp: 4268.0000 - tn: 798077.0000 - fn: 34686.0000 - accuracy: 0.9535 - precision: 0.0884 - recall: 0.0118 - auc: 0.7606 - val_loss: 0.1418 - val_tp: 0.0000e+00 - val_fp: 0.0000e+00 - val_tn: 200938.0000 - val_fn: 9009.0000 - val_accuracy: 0.9571 - val_precision: 0.0000e+00 - val_recall: 0.0000e+00 - val_auc: 0.8308\n",
      "Epoch 3/16\n",
      "738/738 [==============================] - 94s 127ms/step - loss: 0.1451 - tp: 11.0000 - fp: 14.0000 - tn: 802331.0000 - fn: 35089.0000 - accuracy: 0.9581 - precision: 0.4400 - recall: 3.1339e-04 - auc: 0.8056 - val_loss: 0.1415 - val_tp: 0.0000e+00 - val_fp: 0.0000e+00 - val_tn: 200938.0000 - val_fn: 9009.0000 - val_accuracy: 0.9571 - val_precision: 0.0000e+00 - val_recall: 0.0000e+00 - val_auc: 0.8313\n",
      "Epoch 4/16\n",
      "738/738 [==============================] - 94s 127ms/step - loss: 0.1441 - tp: 0.0000e+00 - fp: 2.0000 - tn: 802343.0000 - fn: 35100.0000 - accuracy: 0.9581 - precision: 0.0000e+00 - recall: 0.0000e+00 - auc: 0.8087 - val_loss: 0.1412 - val_tp: 0.0000e+00 - val_fp: 0.0000e+00 - val_tn: 200938.0000 - val_fn: 9009.0000 - val_accuracy: 0.9571 - val_precision: 0.0000e+00 - val_recall: 0.0000e+00 - val_auc: 0.8314\n",
      "Epoch 5/16\n",
      "738/738 [==============================] - 94s 127ms/step - loss: 0.1430 - tp: 0.0000e+00 - fp: 0.0000e+00 - tn: 802345.0000 - fn: 35100.0000 - accuracy: 0.9581 - precision: 0.0000e+00 - recall: 0.0000e+00 - auc: 0.8123 - val_loss: 0.1410 - val_tp: 0.0000e+00 - val_fp: 0.0000e+00 - val_tn: 200938.0000 - val_fn: 9009.0000 - val_accuracy: 0.9571 - val_precision: 0.0000e+00 - val_recall: 0.0000e+00 - val_auc: 0.8333\n",
      "Epoch 6/16\n",
      "738/738 [==============================] - 94s 127ms/step - loss: 0.1422 - tp: 0.0000e+00 - fp: 0.0000e+00 - tn: 802345.0000 - fn: 35100.0000 - accuracy: 0.9581 - precision: 0.0000e+00 - recall: 0.0000e+00 - auc: 0.8156 - val_loss: 0.1409 - val_tp: 0.0000e+00 - val_fp: 0.0000e+00 - val_tn: 200938.0000 - val_fn: 9009.0000 - val_accuracy: 0.9571 - val_precision: 0.0000e+00 - val_recall: 0.0000e+00 - val_auc: 0.8327\n",
      "Epoch 7/16\n",
      "738/738 [==============================] - 94s 128ms/step - loss: 0.1413 - tp: 1.0000 - fp: 1.0000 - tn: 802344.0000 - fn: 35099.0000 - accuracy: 0.9581 - precision: 0.5000 - recall: 2.8490e-05 - auc: 0.8192 - val_loss: 0.1418 - val_tp: 0.0000e+00 - val_fp: 0.0000e+00 - val_tn: 200938.0000 - val_fn: 9009.0000 - val_accuracy: 0.9571 - val_precision: 0.0000e+00 - val_recall: 0.0000e+00 - val_auc: 0.8326\n",
      "Epoch 8/16\n",
      "738/738 [==============================] - 94s 127ms/step - loss: 0.1406 - tp: 0.0000e+00 - fp: 0.0000e+00 - tn: 802345.0000 - fn: 35100.0000 - accuracy: 0.9581 - precision: 0.0000e+00 - recall: 0.0000e+00 - auc: 0.8212 - val_loss: 0.1420 - val_tp: 0.0000e+00 - val_fp: 0.0000e+00 - val_tn: 200938.0000 - val_fn: 9009.0000 - val_accuracy: 0.9571 - val_precision: 0.0000e+00 - val_recall: 0.0000e+00 - val_auc: 0.8323\n",
      "Epoch 9/16\n",
      "738/738 [==============================] - 95s 128ms/step - loss: 0.1402 - tp: 5.0000 - fp: 2.0000 - tn: 802343.0000 - fn: 35095.0000 - accuracy: 0.9581 - precision: 0.7143 - recall: 1.4245e-04 - auc: 0.8223 - val_loss: 0.1410 - val_tp: 0.0000e+00 - val_fp: 0.0000e+00 - val_tn: 200938.0000 - val_fn: 9009.0000 - val_accuracy: 0.9571 - val_precision: 0.0000e+00 - val_recall: 0.0000e+00 - val_auc: 0.8323\n",
      "Epoch 10/16\n",
      "738/738 [==============================] - 95s 128ms/step - loss: 0.1401 - tp: 30.0000 - fp: 15.0000 - tn: 802330.0000 - fn: 35070.0000 - accuracy: 0.9581 - precision: 0.6667 - recall: 8.5470e-04 - auc: 0.8233 - val_loss: 0.1414 - val_tp: 0.0000e+00 - val_fp: 0.0000e+00 - val_tn: 200938.0000 - val_fn: 9009.0000 - val_accuracy: 0.9571 - val_precision: 0.0000e+00 - val_recall: 0.0000e+00 - val_auc: 0.8322\n",
      "Epoch 11/16\n",
      "738/738 [==============================] - 94s 128ms/step - loss: 0.1398 - tp: 97.0000 - fp: 43.0000 - tn: 802302.0000 - fn: 35003.0000 - accuracy: 0.9582 - precision: 0.6929 - recall: 0.0028 - auc: 0.8240 - val_loss: 0.1410 - val_tp: 8.0000 - val_fp: 11.0000 - val_tn: 200927.0000 - val_fn: 9001.0000 - val_accuracy: 0.9571 - val_precision: 0.4211 - val_recall: 8.8800e-04 - val_auc: 0.8321\n",
      "Epoch 12/16\n",
      "738/738 [==============================] - 95s 128ms/step - loss: 0.1395 - tp: 127.0000 - fp: 62.0000 - tn: 802283.0000 - fn: 34973.0000 - accuracy: 0.9582 - precision: 0.6720 - recall: 0.0036 - auc: 0.8249 - val_loss: 0.1410 - val_tp: 36.0000 - val_fp: 38.0000 - val_tn: 200900.0000 - val_fn: 8973.0000 - val_accuracy: 0.9571 - val_precision: 0.4865 - val_recall: 0.0040 - val_auc: 0.8322\n",
      "Epoch 13/16\n",
      "738/738 [==============================] - 95s 128ms/step - loss: 0.1394 - tp: 195.0000 - fp: 94.0000 - tn: 802251.0000 - fn: 34905.0000 - accuracy: 0.9582 - precision: 0.6747 - recall: 0.0056 - auc: 0.8245 - val_loss: 0.1410 - val_tp: 29.0000 - val_fp: 31.0000 - val_tn: 200907.0000 - val_fn: 8980.0000 - val_accuracy: 0.9571 - val_precision: 0.4833 - val_recall: 0.0032 - val_auc: 0.8326\n",
      "Epoch 14/16\n",
      "738/738 [==============================] - 94s 128ms/step - loss: 0.1395 - tp: 279.0000 - fp: 143.0000 - tn: 802202.0000 - fn: 34821.0000 - accuracy: 0.9582 - precision: 0.6611 - recall: 0.0079 - auc: 0.8243 - val_loss: 0.1411 - val_tp: 19.0000 - val_fp: 31.0000 - val_tn: 200907.0000 - val_fn: 8990.0000 - val_accuracy: 0.9570 - val_precision: 0.3800 - val_recall: 0.0021 - val_auc: 0.8332\n",
      "Epoch 15/16\n",
      "738/738 [==============================] - 95s 128ms/step - loss: 0.1389 - tp: 292.0000 - fp: 156.0000 - tn: 802189.0000 - fn: 34808.0000 - accuracy: 0.9582 - precision: 0.6518 - recall: 0.0083 - auc: 0.8267 - val_loss: 0.1408 - val_tp: 67.0000 - val_fp: 65.0000 - val_tn: 200873.0000 - val_fn: 8942.0000 - val_accuracy: 0.9571 - val_precision: 0.5076 - val_recall: 0.0074 - val_auc: 0.8335\n",
      "Epoch 16/16\n",
      "738/738 [==============================] - 95s 128ms/step - loss: 0.1390 - tp: 324.0000 - fp: 190.0000 - tn: 802155.0000 - fn: 34776.0000 - accuracy: 0.9582 - precision: 0.6304 - recall: 0.0092 - auc: 0.8263 - val_loss: 0.1411 - val_tp: 35.0000 - val_fp: 45.0000 - val_tn: 200893.0000 - val_fn: 8974.0000 - val_accuracy: 0.9570 - val_precision: 0.4375 - val_recall: 0.0039 - val_auc: 0.8322\n"
     ]
    }
   ],
   "source": [
    "history = model.fit(padded_train,y_train,\n",
    "                    epochs = 16,\n",
    "                    verbose = 1,\n",
    "                    validation_data=(padded_test, y_test),\n",
    "                    batch_size=16, callbacks=[WandbMetricsLogger()])"
   ],
   "metadata": {
    "collapsed": false,
    "pycharm": {
     "name": "#%%\n"
    }
   }
  },
  {
   "cell_type": "code",
   "execution_count": 157,
   "outputs": [
    {
     "data": {
      "text/plain": "<Figure size 1152x720 with 4 Axes>",
      "image/png": "[encoded data removed]"
     },
     "metadata": {
      "needs_background": "light"
     },
     "output_type": "display_data"
    }
   ],
   "source": [
    "\n",
    "mpl.rcParams['figure.figsize'] = (16, 10)\n",
    "colors = plt.rcParams['axes.prop_cycle'].by_key()['color']\n",
    "\n",
    "def plot_metrics(history):\n",
    "    metrics =  ['loss', 'auc', 'precision', 'recall']\n",
    "    for n, metric in enumerate(metrics):\n",
    "        name = metric.replace(\"_\",\" \").capitalize()\n",
    "        plt.subplot(2,2,n+1)\n",
    "        plt.plot(history.epoch,  history.history[metric], color=colors[0], label='Train')\n",
    "        plt.plot(history.epoch, history.history['val_'+metric],\n",
    "                 color=colors[0], linestyle=\"--\", label='Val')\n",
    "        plt.xlabel('Epoch')\n",
    "        plt.ylabel(name)\n",
    "        if metric == 'loss':\n",
    "            plt.ylim([0, plt.ylim()[1]])\n",
    "        elif metric == 'auc':\n",
    "            plt.ylim([0.8,1])\n",
    "        else:\n",
    "            plt.ylim([0,1])\n",
    "\n",
    "        plt.legend()\n",
    "\n",
    "plot_metrics(history)"
   ],
   "metadata": {
    "collapsed": false,
    "pycharm": {
     "name": "#%%\n"
    }
   }
  },
  {
   "cell_type": "code",
   "execution_count": 159,
   "outputs": [
    {
     "name": "stdout",
     "output_type": "stream",
     "text": [
      "For threshold:  0.1\n",
      "Micro-average quality numbers\n",
      "Precision: 0.2099, Recall: 0.5705, F1-measure: 0.3069\n",
      "For threshold:  0.2\n",
      "Micro-average quality numbers\n",
      "Precision: 0.2934, Recall: 0.3111, F1-measure: 0.3020\n",
      "For threshold:  0.3\n",
      "Micro-average quality numbers\n",
      "Precision: 0.3845, Recall: 0.1412, F1-measure: 0.2065\n",
      "For threshold:  0.4\n",
      "Micro-average quality numbers\n",
      "Precision: 0.4486, Recall: 0.0121, F1-measure: 0.0236\n",
      "For threshold:  0.5\n",
      "Micro-average quality numbers\n",
      "Precision: 0.4375, Recall: 0.0039, F1-measure: 0.0077\n",
      "For threshold:  0.6\n",
      "Micro-average quality numbers\n",
      "Precision: 0.0000, Recall: 0.0000, F1-measure: 0.0000\n",
      "For threshold:  0.7\n",
      "Micro-average quality numbers\n",
      "Precision: 0.0000, Recall: 0.0000, F1-measure: 0.0000\n",
      "For threshold:  0.8\n",
      "Micro-average quality numbers\n",
      "Precision: 0.0000, Recall: 0.0000, F1-measure: 0.0000\n",
      "For threshold:  0.9\n",
      "Micro-average quality numbers\n",
      "Precision: 0.0000, Recall: 0.0000, F1-measure: 0.0000\n"
     ]
    }
   ],
   "source": [
    "from sklearn.metrics import precision_score, recall_score, f1_score\n",
    "\n",
    "predictions=model.predict([padded_test])\n",
    "thresholds=[0.1,0.2,0.3,0.4,0.5,0.6,0.7,0.8,0.9]\n",
    "\n",
    "for val in thresholds:\n",
    "    print(\"For threshold: \", val)\n",
    "    pred=predictions.copy()\n",
    "\n",
    "    pred[pred>=val]=1\n",
    "    pred[pred<val]=0\n",
    "\n",
    "    precision = precision_score(y_test, pred, average='micro')\n",
    "    recall = recall_score(y_test, pred, average='micro')\n",
    "    f1 = f1_score(y_test, pred, average='micro')\n",
    "\n",
    "    print(\"Micro-average quality numbers\")\n",
    "    print(\"Precision: {:.4f}, Recall: {:.4f}, F1-measure: {:.4f}\".format(precision, recall, f1))\n",
    "\n",
    "    wandb.log({'Deep Learning F1-measure {:.4f}': f1})"
   ],
   "metadata": {
    "collapsed": false,
    "pycharm": {
     "name": "#%%\n"
    }
   }
  }
 ],
 "metadata": {
  "kernelspec": {
   "display_name": "Python 3",
   "language": "python",
   "name": "python3"
  },
  "language_info": {
   "codemirror_mode": {
    "name": "ipython",
    "version": 2
   },
   "file_extension": ".py",
   "mimetype": "text/x-python",
   "name": "python",
   "nbconvert_exporter": "python",
   "pygments_lexer": "ipython2",
   "version": "2.7.6"
  }
 },
 "nbformat": 4,
 "nbformat_minor": 0
}